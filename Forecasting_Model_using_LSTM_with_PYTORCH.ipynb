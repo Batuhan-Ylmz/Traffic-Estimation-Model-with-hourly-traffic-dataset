{
 "cells": [
  {
   "cell_type": "code",
   "execution_count": 1,
   "id": "ae10a7e2-0ccc-4198-9b03-48de84dfeb55",
   "metadata": {},
   "outputs": [],
   "source": [
    "import torch\n",
    "import torch.nn as nn\n",
    "import torch.optim as optim\n",
    "from torch.autograd import Variable\n",
    "from sklearn.model_selection import train_test_split\n",
    "from sklearn.metrics import mean_squared_error\n",
    "from sklearn.metrics import mean_squared_error, r2_score, mean_absolute_error\n",
    "import numpy as np\n",
    "import pandas as pd\n",
    "import matplotlib.pyplot as plt"
   ]
  },
  {
   "cell_type": "code",
   "execution_count": 12,
   "id": "4d82aded-4c68-4a34-a7bb-605e505e0036",
   "metadata": {},
   "outputs": [
    {
     "data": {
      "text/html": [
       "<div>\n",
       "<style scoped>\n",
       "    .dataframe tbody tr th:only-of-type {\n",
       "        vertical-align: middle;\n",
       "    }\n",
       "\n",
       "    .dataframe tbody tr th {\n",
       "        vertical-align: top;\n",
       "    }\n",
       "\n",
       "    .dataframe thead th {\n",
       "        text-align: right;\n",
       "    }\n",
       "</style>\n",
       "<table border=\"1\" class=\"dataframe\">\n",
       "  <thead>\n",
       "    <tr style=\"text-align: right;\">\n",
       "      <th></th>\n",
       "      <th>day_of_month</th>\n",
       "      <th>hour</th>\n",
       "      <th>dayofweek</th>\n",
       "      <th>latitude</th>\n",
       "      <th>longitude</th>\n",
       "      <th>maximum_speed</th>\n",
       "      <th>minimum_speed</th>\n",
       "      <th>average_speed</th>\n",
       "      <th>number_of_vehicles</th>\n",
       "    </tr>\n",
       "  </thead>\n",
       "  <tbody>\n",
       "    <tr>\n",
       "      <th>0</th>\n",
       "      <td>1</td>\n",
       "      <td>0</td>\n",
       "      <td>2</td>\n",
       "      <td>28.811646</td>\n",
       "      <td>41.080627</td>\n",
       "      <td>135</td>\n",
       "      <td>18</td>\n",
       "      <td>81</td>\n",
       "      <td>132</td>\n",
       "    </tr>\n",
       "    <tr>\n",
       "      <th>1</th>\n",
       "      <td>1</td>\n",
       "      <td>0</td>\n",
       "      <td>2</td>\n",
       "      <td>29.108276</td>\n",
       "      <td>40.987244</td>\n",
       "      <td>143</td>\n",
       "      <td>10</td>\n",
       "      <td>73</td>\n",
       "      <td>162</td>\n",
       "    </tr>\n",
       "    <tr>\n",
       "      <th>2</th>\n",
       "      <td>1</td>\n",
       "      <td>0</td>\n",
       "      <td>2</td>\n",
       "      <td>29.097290</td>\n",
       "      <td>41.003723</td>\n",
       "      <td>128</td>\n",
       "      <td>6</td>\n",
       "      <td>50</td>\n",
       "      <td>110</td>\n",
       "    </tr>\n",
       "    <tr>\n",
       "      <th>3</th>\n",
       "      <td>1</td>\n",
       "      <td>0</td>\n",
       "      <td>2</td>\n",
       "      <td>28.679810</td>\n",
       "      <td>40.998230</td>\n",
       "      <td>111</td>\n",
       "      <td>22</td>\n",
       "      <td>68</td>\n",
       "      <td>101</td>\n",
       "    </tr>\n",
       "    <tr>\n",
       "      <th>4</th>\n",
       "      <td>1</td>\n",
       "      <td>0</td>\n",
       "      <td>2</td>\n",
       "      <td>28.020630</td>\n",
       "      <td>41.042175</td>\n",
       "      <td>99</td>\n",
       "      <td>99</td>\n",
       "      <td>99</td>\n",
       "      <td>1</td>\n",
       "    </tr>\n",
       "  </tbody>\n",
       "</table>\n",
       "</div>"
      ],
      "text/plain": [
       "   day_of_month  hour  dayofweek   latitude  longitude  maximum_speed  \\\n",
       "0             1     0          2  28.811646  41.080627            135   \n",
       "1             1     0          2  29.108276  40.987244            143   \n",
       "2             1     0          2  29.097290  41.003723            128   \n",
       "3             1     0          2  28.679810  40.998230            111   \n",
       "4             1     0          2  28.020630  41.042175             99   \n",
       "\n",
       "   minimum_speed  average_speed  number_of_vehicles  \n",
       "0             18             81                 132  \n",
       "1             10             73                 162  \n",
       "2              6             50                 110  \n",
       "3             22             68                 101  \n",
       "4             99             99                   1  "
      ]
     },
     "execution_count": 12,
     "metadata": {},
     "output_type": "execute_result"
    }
   ],
   "source": [
    "traffic_data = pd.read_csv('preprocessed_traffic_data.csv')\n",
    "traffic_data.head()"
   ]
  },
  {
   "cell_type": "code",
   "execution_count": 13,
   "id": "02ba7644-1039-4064-881c-204a5b817db6",
   "metadata": {},
   "outputs": [],
   "source": [
    "# Select relevant features for training\n",
    "features = ['day_of_month', 'hour', 'dayofweek', 'latitude', 'longitude', 'maximum_speed', 'minimum_speed', 'average_speed']\n",
    "X = traffic_data[features].values\n",
    "y = traffic_data['number_of_vehicles'].values"
   ]
  },
  {
   "cell_type": "code",
   "execution_count": 14,
   "id": "8c62113e-442c-4e82-acf9-f4b345d70ad8",
   "metadata": {},
   "outputs": [],
   "source": [
    "# Split the data into training and testing sets\n",
    "X_train, X_test, y_train, y_test = train_test_split(X, y, test_size=0.2, random_state=42)\n",
    "\n",
    "# Reshape input data for LSTM\n",
    "sequence_length = 24\n",
    "X_train_lstm = np.array([X_train[i - sequence_length:i] for i in range(sequence_length, len(X_train))])\n",
    "y_train_lstm = np.array([y_train[i] for i in range(sequence_length, len(y_train))])\n",
    "\n",
    "X_test_lstm = np.array([X_test[i - sequence_length:i] for i in range(sequence_length, len(X_test))])\n",
    "y_test_lstm = np.array([y_test[i] for i in range(sequence_length, len(y_test))])"
   ]
  },
  {
   "cell_type": "code",
   "execution_count": 15,
   "id": "489ae9fc-4957-4ed3-bba1-685bf56ca2dd",
   "metadata": {},
   "outputs": [],
   "source": [
    "# Convert data to PyTorch tensors\n",
    "X_train_lstm_tensor = torch.tensor(X_train_lstm, dtype=torch.float32)\n",
    "y_train_lstm_tensor = torch.tensor(y_train_lstm, dtype=torch.float32)\n",
    "\n",
    "X_test_lstm_tensor = torch.tensor(X_test_lstm, dtype=torch.float32)\n",
    "y_test_lstm_tensor = torch.tensor(y_test_lstm, dtype=torch.float32)"
   ]
  },
  {
   "cell_type": "code",
   "execution_count": 16,
   "id": "b3f0b6fd-0c3d-49b0-bbaf-dd8134ae6946",
   "metadata": {},
   "outputs": [],
   "source": [
    "# Define LSTM model\n",
    "# Due to the time limitation, a simple model could barely be trained. A more complex architecture could be implemented to cath \n",
    "# more significant patterns from the data.\n",
    "class LSTMModel(nn.Module):\n",
    "    def __init__(self, input_size, hidden_size, num_layers, output_size, dropout_rate=0.2):\n",
    "        super(LSTMModel, self).__init__()\n",
    "        self.lstm1 = nn.LSTM(input_size, hidden_size, num_layers, batch_first=True, dropout=dropout_rate)\n",
    "        self.lstm2 = nn.LSTM(hidden_size, hidden_size, num_layers, batch_first=True, dropout=dropout_rate)\n",
    "        self.fc = nn.Linear(hidden_size, output_size)\n",
    "        self.dropout = nn.Dropout(dropout_rate)\n",
    "\n",
    "    def forward(self, x):\n",
    "        out, _ = self.lstm1(x)\n",
    "        out = self.dropout(out)\n",
    "        out, _ = self.lstm2(out)\n",
    "        out = self.fc(out[:, -1, :])\n",
    "        return out"
   ]
  },
  {
   "cell_type": "code",
   "execution_count": 17,
   "id": "0916a42e-cd12-4aa4-aff3-eb9d24571554",
   "metadata": {},
   "outputs": [],
   "source": [
    "# Hyperparameters\n",
    "input_size = X_train_lstm.shape[2]\n",
    "hidden_size = 50\n",
    "num_layers = 1\n",
    "output_size = 1\n",
    "learning_rate = 0.001\n",
    "num_epochs = 5"
   ]
  },
  {
   "cell_type": "code",
   "execution_count": 18,
   "id": "bd5be4cc-0774-490f-8aa7-7e95c3417318",
   "metadata": {},
   "outputs": [
    {
     "name": "stderr",
     "output_type": "stream",
     "text": [
      "C:\\ProgramData\\anaconda3\\envs\\mytorch\\Lib\\site-packages\\torch\\nn\\modules\\rnn.py:82: UserWarning: dropout option adds dropout after all but last recurrent layer, so non-zero dropout expects num_layers greater than 1, but got dropout=0.2 and num_layers=1\n",
      "  warnings.warn(\"dropout option adds dropout after all but last \"\n"
     ]
    }
   ],
   "source": [
    "# Instantiate model, loss function, and optimizer\n",
    "model = LSTMModel(input_size, hidden_size, num_layers, output_size)\n",
    "criterion = nn.MSELoss()\n",
    "optimizer = optim.Adam(model.parameters(), lr=learning_rate)"
   ]
  },
  {
   "cell_type": "code",
   "execution_count": 19,
   "id": "aa68e6bb-8f20-4d1d-b8fd-607ecaebcdd3",
   "metadata": {},
   "outputs": [],
   "source": [
    "# Split data into batches\n",
    "batch_size = 64\n",
    "num_batches = len(X_train_lstm_tensor) // batch_size\n",
    "\n",
    "losses = []  # to store loss values for plotting"
   ]
  },
  {
   "cell_type": "code",
   "execution_count": 10,
   "id": "39996400-de6b-40bd-9678-c1179a33e0fa",
   "metadata": {},
   "outputs": [
    {
     "name": "stdout",
     "output_type": "stream",
     "text": [
      "Epoch [1/5], Loss: 15810.4023\n",
      "Epoch [2/5], Loss: 15810.3916\n",
      "Epoch [3/5], Loss: 15810.3926\n",
      "Epoch [4/5], Loss: 15810.3906\n",
      "Epoch [5/5], Loss: 15810.3965\n",
      "Model saved successfully.\n"
     ]
    }
   ],
   "source": [
    "for epoch in range(num_epochs):\n",
    "    for i in range(num_batches):\n",
    "        start_idx = i * batch_size\n",
    "        end_idx = (i + 1) * batch_size\n",
    "\n",
    "        X_batch = X_train_lstm_tensor[start_idx:end_idx]\n",
    "        y_batch = y_train_lstm_tensor[start_idx:end_idx]\n",
    "\n",
    "        outputs = model(X_batch)\n",
    "        optimizer.zero_grad()\n",
    "        loss = criterion(outputs.squeeze(), y_batch)\n",
    "        loss.backward()\n",
    "        optimizer.step()\n",
    "        losses.append(loss.item())\n",
    "    if (epoch + 1) % 1 == 0:\n",
    "        print(f'Epoch [{epoch+1}/{num_epochs}], Loss: {loss.item():.4f}')\n",
    "\n",
    "# Save the trained model\n",
    "torch.save(model.state_dict(), 'lstm_traffic_estimation_model.pth')\n",
    "print('Model saved successfully.')"
   ]
  },
  {
   "cell_type": "code",
   "execution_count": 20,
   "id": "f9257355-022e-402f-b1f0-c72cd8d04ba1",
   "metadata": {},
   "outputs": [
    {
     "name": "stderr",
     "output_type": "stream",
     "text": [
      "C:\\ProgramData\\anaconda3\\envs\\mytorch\\Lib\\site-packages\\torch\\nn\\modules\\rnn.py:82: UserWarning: dropout option adds dropout after all but last recurrent layer, so non-zero dropout expects num_layers greater than 1, but got dropout=0.2 and num_layers=1\n",
      "  warnings.warn(\"dropout option adds dropout after all but last \"\n"
     ]
    },
    {
     "data": {
      "text/plain": [
       "<All keys matched successfully>"
      ]
     },
     "execution_count": 20,
     "metadata": {},
     "output_type": "execute_result"
    }
   ],
   "source": [
    "# Load the trained weights\n",
    "model = LSTMModel(input_size, hidden_size, num_layers, output_size)\n",
    "model.load_state_dict(torch.load('lstm_traffic_estimation_model.pth'))"
   ]
  },
  {
   "cell_type": "code",
   "execution_count": 22,
   "id": "1f0ed0bd-28da-4e75-b480-f74fddfbd447",
   "metadata": {},
   "outputs": [],
   "source": [
    "# Make predictions on the test set\n",
    "with torch.no_grad():\n",
    "    model.eval()\n",
    "    batch_size = 64  \n",
    "    predictions = []\n",
    "\n",
    "    for i in range(0, len(X_test_lstm_tensor), batch_size):\n",
    "        batch = X_test_lstm_tensor[i:i + batch_size]\n",
    "        batch_predictions = model(batch).squeeze().numpy()\n",
    "        predictions.append(batch_predictions)\n",
    "\n",
    "    predictions = np.concatenate(predictions)"
   ]
  },
  {
   "cell_type": "code",
   "execution_count": 23,
   "id": "b424e9ab-d679-478a-8089-2b23b378f09e",
   "metadata": {},
   "outputs": [],
   "source": [
    "# Evaluate the model\n",
    "mse = mean_squared_error(y_test_lstm, predictions)\n",
    "rmse = np.sqrt(mse)\n",
    "r2 = r2_score(y_test_lstm, predictions)\n",
    "mae = mean_absolute_error(y_test_lstm, predictions)"
   ]
  },
  {
   "cell_type": "code",
   "execution_count": 24,
   "id": "04b5565e-3bcd-4dce-b534-11a158d83d34",
   "metadata": {},
   "outputs": [
    {
     "name": "stdout",
     "output_type": "stream",
     "text": [
      "Mean Squared Error (MSE) on Test Set: 10912.6161\n",
      "Root Mean Squared Error (RMSE) on Test Set: 104.4635\n",
      "R-squared (R^2) on Test Set: -0.0000\n",
      "Mean Absolute Error (MAE) on Test Set: 70.7456\n"
     ]
    }
   ],
   "source": [
    "print(f'Mean Squared Error (MSE) on Test Set: {mse:.4f}')\n",
    "print(f'Root Mean Squared Error (RMSE) on Test Set: {rmse:.4f}')\n",
    "print(f'R-squared (R^2) on Test Set: {r2:.4f}')\n",
    "print(f'Mean Absolute Error (MAE) on Test Set: {mae:.4f}')"
   ]
  },
  {
   "cell_type": "code",
   "execution_count": 25,
   "id": "cf9aa348-bc00-4d85-8535-cf8e989f9d3b",
   "metadata": {},
   "outputs": [
    {
     "name": "stdout",
     "output_type": "stream",
     "text": [
      "Python Version: 3.11.5 | packaged by Anaconda, Inc. | (main, Sep 11 2023, 13:26:23) [MSC v.1916 64 bit (AMD64)]\n",
      "PyTorch Version: 2.1.2+cpu\n"
     ]
    }
   ],
   "source": [
    "# For Python version\n",
    "import sys\n",
    "print(\"Python Version:\", sys.version)\n",
    "\n",
    "# For PyTorch version\n",
    "import torch\n",
    "print(\"PyTorch Version:\", torch.__version__)"
   ]
  },
  {
   "cell_type": "code",
   "execution_count": 27,
   "id": "62acb8bd-10b2-4a2d-a3c9-73e3d5acf514",
   "metadata": {},
   "outputs": [
    {
     "name": "stdout",
     "output_type": "stream",
     "text": [
      "Name: notebook\n",
      "Version: 7.0.6\n",
      "Summary: Jupyter Notebook - A web-based notebook environment for interactive computing\n",
      "Home-page: \n",
      "Author: \n",
      "Author-email: Jupyter Development Team <jupyter@googlegroups.com>\n",
      "License: BSD 3-Clause License\n",
      "\n",
      "- Copyright (c) 2001-2015, IPython Development Team\n",
      "- Copyright (c) 2015-, Jupyter Development Team\n",
      "\n",
      "All rights reserved.\n",
      "\n",
      "Redistribution and use in source and binary forms, with or without\n",
      "modification, are permitted provided that the following conditions are met:\n",
      "\n",
      "1. Redistributions of source code must retain the above copyright notice, this\n",
      "   list of conditions and the following disclaimer.\n",
      "\n",
      "2. Redistributions in binary form must reproduce the above copyright notice,\n",
      "   this list of conditions and the following disclaimer in the documentation\n",
      "   and/or other materials provided with the distribution.\n",
      "\n",
      "3. Neither the name of the copyright holder nor the names of its\n",
      "   contributors may be used to endorse or promote products derived from\n",
      "   this software without specific prior written permission.\n",
      "\n",
      "THIS SOFTWARE IS PROVIDED BY THE COPYRIGHT HOLDERS AND CONTRIBUTORS \"AS IS\"\n",
      "AND ANY EXPRESS OR IMPLIED WARRANTIES, INCLUDING, BUT NOT LIMITED TO, THE\n",
      "IMPLIED WARRANTIES OF MERCHANTABILITY AND FITNESS FOR A PARTICULAR PURPOSE ARE\n",
      "DISCLAIMED. IN NO EVENT SHALL THE COPYRIGHT HOLDER OR CONTRIBUTORS BE LIABLE\n",
      "FOR ANY DIRECT, INDIRECT, INCIDENTAL, SPECIAL, EXEMPLARY, OR CONSEQUENTIAL\n",
      "DAMAGES (INCLUDING, BUT NOT LIMITED TO, PROCUREMENT OF SUBSTITUTE GOODS OR\n",
      "SERVICES; LOSS OF USE, DATA, OR PROFITS; OR BUSINESS INTERRUPTION) HOWEVER\n",
      "CAUSED AND ON ANY THEORY OF LIABILITY, WHETHER IN CONTRACT, STRICT LIABILITY,\n",
      "OR TORT (INCLUDING NEGLIGENCE OR OTHERWISE) ARISING IN ANY WAY OUT OF THE USE\n",
      "OF THIS SOFTWARE, EVEN IF ADVISED OF THE POSSIBILITY OF SUCH DAMAGE.\n",
      "Location: C:\\ProgramData\\anaconda3\\envs\\mytorch\\Lib\\site-packages\n",
      "Requires: jupyter-server, jupyterlab, jupyterlab-server, notebook-shim, tornado\n",
      "Required-by: \n"
     ]
    }
   ],
   "source": [
    "# For Jupyter Notebook version\n",
    "!pip show notebook"
   ]
  },
  {
   "cell_type": "code",
   "execution_count": null,
   "id": "6b1a019a-6a59-43a4-8c53-97655d41bacf",
   "metadata": {},
   "outputs": [],
   "source": []
  }
 ],
 "metadata": {
  "kernelspec": {
   "display_name": "Python 3 (ipykernel)",
   "language": "python",
   "name": "python3"
  },
  "language_info": {
   "codemirror_mode": {
    "name": "ipython",
    "version": 3
   },
   "file_extension": ".py",
   "mimetype": "text/x-python",
   "name": "python",
   "nbconvert_exporter": "python",
   "pygments_lexer": "ipython3",
   "version": "3.11.5"
  }
 },
 "nbformat": 4,
 "nbformat_minor": 5
}
